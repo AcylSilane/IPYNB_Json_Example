{
 "cells": [
  {
   "cell_type": "code",
   "execution_count": 1,
   "id": "simplified-alabama",
   "metadata": {},
   "outputs": [],
   "source": [
    "from IPython.display import display, JSON"
   ]
  },
  {
   "cell_type": "code",
   "execution_count": 2,
   "id": "aging-opportunity",
   "metadata": {},
   "outputs": [
    {
     "data": {
      "application/json": {
       "Nested Dicts": {
        "More Nested Dicts": {
         "Nested 1": 1,
         "NestedVals": [
          1,
          2,
          3,
          4,
          5
         ]
        }
       },
       "Something else here": 6,
       "Something here": 5
      },
      "text/plain": [
       "<IPython.core.display.JSON object>"
      ]
     },
     "metadata": {
      "application/json": {
       "expanded": false,
       "root": "root"
      }
     },
     "output_type": "display_data"
    }
   ],
   "source": [
    "my_dict = {\n",
    "    \"Something here\" : 5,\n",
    "    \"Something else here\" : 6,\n",
    "    \"Nested Dicts\" : {\n",
    "        \"More Nested Dicts\" : {\n",
    "            \"Nested 1\" : 1,\n",
    "            \"NestedVals\" : [1,2,3,4,5]\n",
    "        }\n",
    "    }\n",
    "}\n",
    "display(JSON(my_dict))"
   ]
  },
  {
   "cell_type": "code",
   "execution_count": null,
   "id": "thorough-lemon",
   "metadata": {},
   "outputs": [],
   "source": []
  }
 ],
 "metadata": {
  "kernelspec": {
   "display_name": "Python 3",
   "language": "python",
   "name": "python3"
  },
  "language_info": {
   "codemirror_mode": {
    "name": "ipython",
    "version": 3
   },
   "file_extension": ".py",
   "mimetype": "text/x-python",
   "name": "python",
   "nbconvert_exporter": "python",
   "pygments_lexer": "ipython3",
   "version": "3.8.6"
  }
 },
 "nbformat": 4,
 "nbformat_minor": 5
}
